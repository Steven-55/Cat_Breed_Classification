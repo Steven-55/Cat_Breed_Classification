{
  "nbformat": 4,
  "nbformat_minor": 0,
  "metadata": {
    "colab": {
      "provenance": []
    },
    "kernelspec": {
      "name": "python3",
      "display_name": "Python 3"
    },
    "language_info": {
      "name": "python"
    }
  },
  "cells": [
    {
      "cell_type": "code",
      "execution_count": 11,
      "metadata": {
        "id": "h5zDdPUht3zh"
      },
      "outputs": [],
      "source": [
        "import os\n",
        "import zipfile\n",
        "import random\n",
        "import shutil\n",
        "import tensorflow as tf\n",
        "from tensorflow.keras.preprocessing.image import ImageDataGenerator\n",
        "from shutil import copyfile\n",
        "import matplotlib.pyplot as plt"
      ]
    },
    {
      "cell_type": "code",
      "source": [
        "dataset_zip = zipfile.ZipFile('archive_2.zip', 'r')\n",
        "\n",
        "dataset_zip.extractall()\n",
        "\n",
        "dataset_zip.close()"
      ],
      "metadata": {
        "id": "bhPty1VuuF6M"
      },
      "execution_count": 13,
      "outputs": []
    },
    {
      "cell_type": "code",
      "source": [
        "datagen = ImageDataGenerator(\n",
        "    rescale=1./255,\n",
        "    validation_split=0.2,\n",
        "    rotation_range=20,\n",
        "    width_shift_range=0.2,\n",
        "    height_shift_range=0.2,\n",
        "    shear_range=0.2,\n",
        "    zoom_range=0.2,\n",
        "    horizontal_flip=True,\n",
        "    fill_mode='nearest'\n",
        "  ) "
      ],
      "metadata": {
        "id": "b3XA2AJrAKGZ"
      },
      "execution_count": 14,
      "outputs": []
    },
    {
      "cell_type": "code",
      "source": [
        "data_dir = '/content/Capstone'\n",
        "train_generator = datagen.flow_from_directory(\n",
        "    data_dir,\n",
        "    target_size=(128, 128),\n",
        "    batch_size=32,\n",
        "    class_mode='categorical',\n",
        "    subset='training',\n",
        "    shuffle=True\n",
        ")"
      ],
      "metadata": {
        "colab": {
          "base_uri": "https://localhost:8080/"
        },
        "id": "jEIrqSpHCJkI",
        "outputId": "492897c9-deef-4ec2-9d30-6cb3c1f794a3"
      },
      "execution_count": 15,
      "outputs": [
        {
          "output_type": "stream",
          "name": "stdout",
          "text": [
            "Found 12000 images belonging to 5 classes.\n"
          ]
        }
      ]
    },
    {
      "cell_type": "code",
      "source": [
        "valid_generator = datagen.flow_from_directory(\n",
        "    data_dir,\n",
        "    target_size=(128, 128),\n",
        "    batch_size=32,\n",
        "    class_mode='categorical',\n",
        "    subset='validation',\n",
        "    shuffle=True\n",
        ")"
      ],
      "metadata": {
        "colab": {
          "base_uri": "https://localhost:8080/"
        },
        "id": "9fjVtWz9DUPx",
        "outputId": "130e2868-63d3-4887-cb5d-2cebfd1822ce"
      },
      "execution_count": 16,
      "outputs": [
        {
          "output_type": "stream",
          "name": "stdout",
          "text": [
            "Found 3000 images belonging to 5 classes.\n"
          ]
        }
      ]
    },
    {
      "cell_type": "code",
      "source": [
        "def create_model():\n",
        "  model = tf.keras.models.Sequential([\n",
        "    tf.keras.layers.Conv2D(32, (3, 3), activation='relu', input_shape=(128, 128, 3)),\n",
        "    tf.keras.layers.MaxPooling2D((2, 2)),\n",
        "    tf.keras.layers.Conv2D(64, (3, 3), activation='relu'),\n",
        "    tf.keras.layers.MaxPooling2D((2, 2)),\n",
        "    tf.keras.layers.Conv2D(128, (3, 3), activation='relu'),\n",
        "    tf.keras.layers.MaxPooling2D((2, 2)),\n",
        "    tf.keras.layers.Flatten(),\n",
        "    tf.keras.layers.Dense(128, activation='relu'),\n",
        "    tf.keras.layers.Dense(5, activation='softmax')\n",
        "  ]) \n",
        "\n",
        "  model.compile(optimizer='adam',                   \n",
        "                  loss='categorical_crossentropy',                   \n",
        "                  metrics=['accuracy']) \n",
        "  return model "
      ],
      "metadata": {
        "id": "lSb9v1oyDdKf"
      },
      "execution_count": 20,
      "outputs": []
    },
    {
      "cell_type": "code",
      "source": [
        "model = create_model()\n",
        "\n",
        "# Train the model\n",
        "# Note that this may take some time.\n",
        "history = model.fit(train_generator,\n",
        "                    epochs=15,\n",
        "                    verbose=1,\n",
        "                    validation_data= valid_generator)"
      ],
      "metadata": {
        "colab": {
          "base_uri": "https://localhost:8080/"
        },
        "id": "nMD__6ikEUVo",
        "outputId": "3748d28e-36b1-480f-d301-46a4dde28567"
      },
      "execution_count": 21,
      "outputs": [
        {
          "output_type": "stream",
          "name": "stdout",
          "text": [
            "Epoch 1/15\n",
            "375/375 [==============================] - 342s 908ms/step - loss: 1.4670 - accuracy: 0.3403 - val_loss: 1.4003 - val_accuracy: 0.4060\n",
            "Epoch 2/15\n",
            "375/375 [==============================] - 339s 903ms/step - loss: 1.4041 - accuracy: 0.3873 - val_loss: 1.3623 - val_accuracy: 0.4070\n",
            "Epoch 3/15\n",
            "375/375 [==============================] - 352s 938ms/step - loss: 1.3720 - accuracy: 0.4118 - val_loss: 1.3171 - val_accuracy: 0.4463\n",
            "Epoch 4/15\n",
            "375/375 [==============================] - 342s 913ms/step - loss: 1.3486 - accuracy: 0.4271 - val_loss: 1.3183 - val_accuracy: 0.4350\n",
            "Epoch 5/15\n",
            "375/375 [==============================] - 342s 913ms/step - loss: 1.3276 - accuracy: 0.4428 - val_loss: 1.2929 - val_accuracy: 0.4513\n",
            "Epoch 6/15\n",
            "375/375 [==============================] - 342s 912ms/step - loss: 1.3108 - accuracy: 0.4429 - val_loss: 1.3018 - val_accuracy: 0.4497\n",
            "Epoch 7/15\n",
            "375/375 [==============================] - 341s 908ms/step - loss: 1.3008 - accuracy: 0.4557 - val_loss: 1.2856 - val_accuracy: 0.4543\n",
            "Epoch 8/15\n",
            "375/375 [==============================] - 342s 911ms/step - loss: 1.2848 - accuracy: 0.4652 - val_loss: 1.2700 - val_accuracy: 0.4620\n",
            "Epoch 9/15\n",
            "375/375 [==============================] - 342s 912ms/step - loss: 1.2651 - accuracy: 0.4712 - val_loss: 1.2546 - val_accuracy: 0.4867\n",
            "Epoch 10/15\n",
            "375/375 [==============================] - 344s 917ms/step - loss: 1.2576 - accuracy: 0.4758 - val_loss: 1.2338 - val_accuracy: 0.4777\n",
            "Epoch 11/15\n",
            "375/375 [==============================] - 364s 969ms/step - loss: 1.2390 - accuracy: 0.4848 - val_loss: 1.2752 - val_accuracy: 0.4600\n",
            "Epoch 12/15\n",
            "375/375 [==============================] - 352s 938ms/step - loss: 1.2301 - accuracy: 0.4877 - val_loss: 1.2270 - val_accuracy: 0.4890\n",
            "Epoch 13/15\n",
            "375/375 [==============================] - 360s 961ms/step - loss: 1.2096 - accuracy: 0.4989 - val_loss: 1.1983 - val_accuracy: 0.4930\n",
            "Epoch 14/15\n",
            "375/375 [==============================] - 364s 970ms/step - loss: 1.2113 - accuracy: 0.5018 - val_loss: 1.2084 - val_accuracy: 0.5033\n",
            "Epoch 15/15\n",
            "375/375 [==============================] - 363s 967ms/step - loss: 1.1897 - accuracy: 0.5110 - val_loss: 1.2006 - val_accuracy: 0.5033\n"
          ]
        }
      ]
    }
  ]
}